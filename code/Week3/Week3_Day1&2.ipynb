{
 "cells": [
  {
   "cell_type": "code",
   "execution_count": 1,
   "id": "e784eefd",
   "metadata": {},
   "outputs": [
    {
     "name": "stdout",
     "output_type": "stream",
     "text": [
      "['apple', 'Guava', 'pine apple']\n"
     ]
    }
   ],
   "source": [
    "fruit = [\"apple\",\"Guava\",\"pine apple\"]\n",
    "print(fruit)"
   ]
  },
  {
   "cell_type": "code",
   "execution_count": 2,
   "id": "952d2070",
   "metadata": {},
   "outputs": [],
   "source": [
    "fruit.append(\"Berry\")"
   ]
  },
  {
   "cell_type": "code",
   "execution_count": 3,
   "id": "024d0e89",
   "metadata": {},
   "outputs": [],
   "source": [
    "liked_fruit = ('mango','Cutard apple')"
   ]
  },
  {
   "cell_type": "code",
   "execution_count": 4,
   "id": "974f47ae",
   "metadata": {},
   "outputs": [],
   "source": [
    "fruit+=liked_fruit"
   ]
  },
  {
   "cell_type": "code",
   "execution_count": 5,
   "id": "4aca40dc",
   "metadata": {},
   "outputs": [
    {
     "name": "stdout",
     "output_type": "stream",
     "text": [
      "['apple', 'Guava', 'pine apple', 'Berry', 'mango', 'Cutard apple']\n"
     ]
    }
   ],
   "source": [
    "print(fruit)"
   ]
  },
  {
   "cell_type": "code",
   "execution_count": 6,
   "id": "50fc524d",
   "metadata": {},
   "outputs": [
    {
     "name": "stdout",
     "output_type": "stream",
     "text": [
      "['apple', 'Guava', 'pine apple', 'Berry', 'mango']\n"
     ]
    }
   ],
   "source": [
    "fruit.pop()\n",
    "print(fruit)"
   ]
  },
  {
   "cell_type": "code",
   "execution_count": 7,
   "id": "efe0a52e",
   "metadata": {},
   "outputs": [
    {
     "data": {
      "text/plain": [
       "'apple'"
      ]
     },
     "execution_count": 7,
     "metadata": {},
     "output_type": "execute_result"
    }
   ],
   "source": [
    "fruit.pop(0)"
   ]
  },
  {
   "cell_type": "code",
   "execution_count": 8,
   "id": "a848c8db",
   "metadata": {},
   "outputs": [
    {
     "name": "stdout",
     "output_type": "stream",
     "text": [
      "['Guava', 'pine apple', 'Berry', 'mango']\n"
     ]
    }
   ],
   "source": [
    "print(fruit)"
   ]
  },
  {
   "cell_type": "code",
   "execution_count": 9,
   "id": "25c57b9c",
   "metadata": {},
   "outputs": [],
   "source": [
    "fruit.insert(0,\"apple\")"
   ]
  },
  {
   "cell_type": "code",
   "execution_count": 10,
   "id": "dd345837",
   "metadata": {},
   "outputs": [
    {
     "name": "stdout",
     "output_type": "stream",
     "text": [
      "['apple', 'Guava', 'pine apple', 'Berry', 'mango']\n"
     ]
    }
   ],
   "source": [
    "print(fruit)"
   ]
  },
  {
   "cell_type": "code",
   "execution_count": 11,
   "id": "a31f45bd",
   "metadata": {},
   "outputs": [
    {
     "name": "stdout",
     "output_type": "stream",
     "text": [
      "['apple', 'Guava', 'cherry', 'pine apple', 'Berry', 'mango']\n"
     ]
    }
   ],
   "source": [
    "fruit.insert(2,\"cherry\")\n",
    "print(fruit)"
   ]
  },
  {
   "cell_type": "code",
   "execution_count": 12,
   "id": "1561cfbe",
   "metadata": {},
   "outputs": [
    {
     "name": "stdout",
     "output_type": "stream",
     "text": [
      "1\n",
      "['apple', 'Guava', 'cherry', 'pine apple', 'Berry', 'mango']\n"
     ]
    }
   ],
   "source": [
    "print(fruit.count(\"Berry\"))\n",
    "print(fruit)"
   ]
  },
  {
   "cell_type": "code",
   "execution_count": 13,
   "id": "f913bfdb",
   "metadata": {},
   "outputs": [
    {
     "name": "stdout",
     "output_type": "stream",
     "text": [
      "6\n"
     ]
    }
   ],
   "source": [
    "print(len(fruit))"
   ]
  },
  {
   "cell_type": "code",
   "execution_count": 14,
   "id": "78280110",
   "metadata": {},
   "outputs": [
    {
     "data": {
      "text/plain": [
       "1"
      ]
     },
     "execution_count": 14,
     "metadata": {},
     "output_type": "execute_result"
    }
   ],
   "source": [
    "fruit.count(\"apple\")"
   ]
  },
  {
   "cell_type": "code",
   "execution_count": 15,
   "id": "f595e55f",
   "metadata": {},
   "outputs": [],
   "source": [
    "#fruit.clear()"
   ]
  },
  {
   "cell_type": "code",
   "execution_count": 16,
   "id": "74a98019",
   "metadata": {},
   "outputs": [
    {
     "name": "stdout",
     "output_type": "stream",
     "text": [
      "['apple', 'Guava', 'cherry', 'pine apple', 'Berry', 'mango']\n"
     ]
    }
   ],
   "source": [
    "print(fruit)"
   ]
  },
  {
   "cell_type": "code",
   "execution_count": 17,
   "id": "a310fcc4",
   "metadata": {},
   "outputs": [],
   "source": [
    "#del fruit"
   ]
  },
  {
   "cell_type": "code",
   "execution_count": 18,
   "id": "89ec43c6",
   "metadata": {},
   "outputs": [
    {
     "name": "stdout",
     "output_type": "stream",
     "text": [
      "['apple', 'Guava', 'cherry', 'pine apple', 'Berry', 'mango']\n"
     ]
    }
   ],
   "source": [
    "# print list\n",
    "print(fruit)"
   ]
  },
  {
   "cell_type": "code",
   "execution_count": 19,
   "id": "4504bfce",
   "metadata": {},
   "outputs": [
    {
     "name": "stdout",
     "output_type": "stream",
     "text": [
      "['apple', 'Guava', 'cherry', 'pine apple', 'Berry', 'mango']\n"
     ]
    }
   ],
   "source": [
    "print(fruit)"
   ]
  },
  {
   "cell_type": "code",
   "execution_count": 20,
   "id": "c7c340d8",
   "metadata": {},
   "outputs": [],
   "source": [
    "fruits=fruit.copy()"
   ]
  },
  {
   "cell_type": "code",
   "execution_count": 21,
   "id": "7b02eae6",
   "metadata": {},
   "outputs": [
    {
     "name": "stdout",
     "output_type": "stream",
     "text": [
      "['apple', 'Guava', 'cherry', 'pine apple', 'Berry', 'mango']\n"
     ]
    }
   ],
   "source": [
    "print(fruits)"
   ]
  },
  {
   "cell_type": "code",
   "execution_count": 22,
   "id": "780c564f",
   "metadata": {},
   "outputs": [],
   "source": [
    "fruit.append(\"berry\")"
   ]
  },
  {
   "cell_type": "code",
   "execution_count": 23,
   "id": "52f41b9a",
   "metadata": {},
   "outputs": [
    {
     "name": "stdout",
     "output_type": "stream",
     "text": [
      "['apple', 'Guava', 'cherry', 'pine apple', 'Berry', 'mango', 'berry']\n"
     ]
    }
   ],
   "source": [
    "print(fruit)"
   ]
  },
  {
   "cell_type": "code",
   "execution_count": 24,
   "id": "5216457d",
   "metadata": {},
   "outputs": [
    {
     "name": "stdout",
     "output_type": "stream",
     "text": [
      "['apple', 'Guava', 'cherry', 'pine apple', 'Berry', 'mango']\n"
     ]
    }
   ],
   "source": [
    "print(fruits)"
   ]
  },
  {
   "cell_type": "code",
   "execution_count": 25,
   "id": "4f406939",
   "metadata": {},
   "outputs": [
    {
     "ename": "TypeError",
     "evalue": "clear() takes no arguments (1 given)",
     "output_type": "error",
     "traceback": [
      "\u001b[1;31m---------------------------------------------------------------------------\u001b[0m",
      "\u001b[1;31mTypeError\u001b[0m                                 Traceback (most recent call last)",
      "\u001b[1;32m<ipython-input-25-fc1597a16f3e>\u001b[0m in \u001b[0;36m<module>\u001b[1;34m\u001b[0m\n\u001b[1;32m----> 1\u001b[1;33m \u001b[0mfruit\u001b[0m\u001b[1;33m.\u001b[0m\u001b[0mclear\u001b[0m\u001b[1;33m(\u001b[0m\u001b[1;36m0\u001b[0m\u001b[1;33m)\u001b[0m\u001b[1;33m\u001b[0m\u001b[1;33m\u001b[0m\u001b[0m\n\u001b[0m",
      "\u001b[1;31mTypeError\u001b[0m: clear() takes no arguments (1 given)"
     ]
    }
   ],
   "source": [
    "fruit.clear(0)"
   ]
  },
  {
   "cell_type": "code",
   "execution_count": 27,
   "id": "974fe008",
   "metadata": {},
   "outputs": [
    {
     "data": {
      "text/plain": [
       "True"
      ]
     },
     "execution_count": 27,
     "metadata": {},
     "output_type": "execute_result"
    }
   ],
   "source": [
    "\"apple\" in fruit"
   ]
  },
  {
   "cell_type": "code",
   "execution_count": 28,
   "id": "dfeb5c72",
   "metadata": {},
   "outputs": [
    {
     "name": "stdout",
     "output_type": "stream",
     "text": [
      "True\n"
     ]
    }
   ],
   "source": [
    "print(\"Mango\" not in fruit)"
   ]
  },
  {
   "cell_type": "code",
   "execution_count": 29,
   "id": "245f0a75",
   "metadata": {},
   "outputs": [],
   "source": [
    "fruit.sort()"
   ]
  },
  {
   "cell_type": "code",
   "execution_count": 30,
   "id": "844b52c4",
   "metadata": {},
   "outputs": [
    {
     "data": {
      "text/plain": [
       "['Berry', 'Guava', 'apple', 'berry', 'cherry', 'mango', 'pine apple']"
      ]
     },
     "execution_count": 30,
     "metadata": {},
     "output_type": "execute_result"
    }
   ],
   "source": [
    "fruit"
   ]
  },
  {
   "cell_type": "code",
   "execution_count": 31,
   "id": "91f17b1d",
   "metadata": {},
   "outputs": [],
   "source": [
    "numbers = [ 9,4,3,2,4,-3,2,-1]"
   ]
  },
  {
   "cell_type": "code",
   "execution_count": 32,
   "id": "fa700281",
   "metadata": {},
   "outputs": [
    {
     "name": "stdout",
     "output_type": "stream",
     "text": [
      "[9, 4, 3, 2, 4, -3, 2, -1]\n"
     ]
    }
   ],
   "source": [
    "print(numbers)"
   ]
  },
  {
   "cell_type": "code",
   "execution_count": 33,
   "id": "84476463",
   "metadata": {},
   "outputs": [
    {
     "name": "stdout",
     "output_type": "stream",
     "text": [
      "[-3, -1, 2, 2, 3, 4, 4, 9]\n"
     ]
    }
   ],
   "source": [
    "numbers.sort()\n",
    "print(numbers)"
   ]
  },
  {
   "cell_type": "code",
   "execution_count": 34,
   "id": "6f11b8ee",
   "metadata": {},
   "outputs": [
    {
     "name": "stdout",
     "output_type": "stream",
     "text": [
      "[-3, -1, 2, 2, 3, 4, 4, 9]\n"
     ]
    }
   ],
   "source": [
    "#.pop(-2)\n",
    "print(numbers)"
   ]
  },
  {
   "cell_type": "code",
   "execution_count": 35,
   "id": "14c32dd3",
   "metadata": {},
   "outputs": [],
   "source": [
    "del numbers[2]"
   ]
  },
  {
   "cell_type": "code",
   "execution_count": 36,
   "id": "8a57c1bd",
   "metadata": {},
   "outputs": [
    {
     "name": "stdout",
     "output_type": "stream",
     "text": [
      "[-3, -1, 2, 3, 4, 4, 9]\n"
     ]
    }
   ],
   "source": [
    "print(numbers)"
   ]
  },
  {
   "cell_type": "markdown",
   "id": "586a8802",
   "metadata": {},
   "source": [
    "# Tuples"
   ]
  },
  {
   "cell_type": "code",
   "execution_count": 37,
   "id": "2fbbace5",
   "metadata": {},
   "outputs": [
    {
     "name": "stdout",
     "output_type": "stream",
     "text": [
      "<class 'tuple'>\n",
      "(1, 4, 5, 6, 9, 8, 5, 4)\n"
     ]
    }
   ],
   "source": [
    "# Tuples \n",
    "# immutable\n",
    "number= (1,4,5,6,9,8,5,4)\n",
    "print(type(number))\n",
    "print(number)"
   ]
  },
  {
   "cell_type": "code",
   "execution_count": 38,
   "id": "9303d739",
   "metadata": {},
   "outputs": [],
   "source": [
    "#number = list(number)"
   ]
  },
  {
   "cell_type": "code",
   "execution_count": 39,
   "id": "98ff2ce5",
   "metadata": {},
   "outputs": [
    {
     "name": "stdout",
     "output_type": "stream",
     "text": [
      "<class 'tuple'>\n",
      "(1, 4, 5, 6, 9, 8, 5, 4)\n"
     ]
    }
   ],
   "source": [
    "print(type(number))\n",
    "print(number)"
   ]
  },
  {
   "cell_type": "code",
   "execution_count": 40,
   "id": "434ff3e8",
   "metadata": {},
   "outputs": [
    {
     "name": "stdout",
     "output_type": "stream",
     "text": [
      "(1, 4, 5, 6, 9, 8, 5, 4, 20, 30, 50, 60)\n"
     ]
    }
   ],
   "source": [
    "number1 = (20,30,50,60)\n",
    "number3 = number + number1\n",
    "print(number3)"
   ]
  },
  {
   "cell_type": "code",
   "execution_count": 41,
   "id": "fd8bff69",
   "metadata": {},
   "outputs": [
    {
     "ename": "TypeError",
     "evalue": "can only concatenate tuple (not \"list\") to tuple",
     "output_type": "error",
     "traceback": [
      "\u001b[1;31m---------------------------------------------------------------------------\u001b[0m",
      "\u001b[1;31mTypeError\u001b[0m                                 Traceback (most recent call last)",
      "\u001b[1;32m<ipython-input-41-8f86a7e1b2f7>\u001b[0m in \u001b[0;36m<module>\u001b[1;34m\u001b[0m\n\u001b[0;32m      1\u001b[0m \u001b[0mnumber4\u001b[0m \u001b[1;33m=\u001b[0m \u001b[1;33m[\u001b[0m\u001b[1;36m100\u001b[0m\u001b[1;33m,\u001b[0m\u001b[1;36m300\u001b[0m\u001b[1;33m,\u001b[0m\u001b[1;36m500\u001b[0m\u001b[1;33m]\u001b[0m\u001b[1;33m\u001b[0m\u001b[1;33m\u001b[0m\u001b[0m\n\u001b[1;32m----> 2\u001b[1;33m \u001b[0mnumber3\u001b[0m\u001b[1;33m+=\u001b[0m \u001b[0mnumber4\u001b[0m\u001b[1;33m\u001b[0m\u001b[1;33m\u001b[0m\u001b[0m\n\u001b[0m",
      "\u001b[1;31mTypeError\u001b[0m: can only concatenate tuple (not \"list\") to tuple"
     ]
    }
   ],
   "source": [
    "number4 = [100,300,500]\n",
    "number3+= number4"
   ]
  },
  {
   "cell_type": "code",
   "execution_count": 42,
   "id": "766f1958",
   "metadata": {},
   "outputs": [
    {
     "name": "stdout",
     "output_type": "stream",
     "text": [
      "(1, 4, 5, 6, 9, 8, 5, 4)\n",
      "9\n"
     ]
    },
    {
     "data": {
      "text/plain": [
       "4"
      ]
     },
     "execution_count": 42,
     "metadata": {},
     "output_type": "execute_result"
    }
   ],
   "source": [
    "print(number)\n",
    "print(number[4])\n",
    "number.index(9)"
   ]
  },
  {
   "cell_type": "code",
   "execution_count": 43,
   "id": "4033bfe2",
   "metadata": {},
   "outputs": [],
   "source": [
    "number3 = (2,3,4,5,6,\"hello\",[34,35,67])"
   ]
  },
  {
   "cell_type": "code",
   "execution_count": 44,
   "id": "4ac5b62c",
   "metadata": {},
   "outputs": [
    {
     "name": "stdout",
     "output_type": "stream",
     "text": [
      "(2, 3, 4, 5, 6, 'hello', [34, 35, 67])\n"
     ]
    }
   ],
   "source": [
    "print(number3)"
   ]
  },
  {
   "cell_type": "code",
   "execution_count": 45,
   "id": "38206ade",
   "metadata": {},
   "outputs": [
    {
     "name": "stdout",
     "output_type": "stream",
     "text": [
      "(20, 30, 50, 60)\n"
     ]
    }
   ],
   "source": [
    "print(number1)"
   ]
  },
  {
   "cell_type": "code",
   "execution_count": 46,
   "id": "e3861780",
   "metadata": {},
   "outputs": [
    {
     "data": {
      "text/plain": [
       "4"
      ]
     },
     "execution_count": 46,
     "metadata": {},
     "output_type": "execute_result"
    }
   ],
   "source": [
    "len(number1)"
   ]
  },
  {
   "cell_type": "code",
   "execution_count": 47,
   "id": "49d4b373",
   "metadata": {},
   "outputs": [
    {
     "data": {
      "text/plain": [
       "20"
      ]
     },
     "execution_count": 47,
     "metadata": {},
     "output_type": "execute_result"
    }
   ],
   "source": [
    "min(number1)"
   ]
  },
  {
   "cell_type": "code",
   "execution_count": 48,
   "id": "bc321b04",
   "metadata": {},
   "outputs": [
    {
     "data": {
      "text/plain": [
       "60"
      ]
     },
     "execution_count": 48,
     "metadata": {},
     "output_type": "execute_result"
    }
   ],
   "source": [
    "max(number1)"
   ]
  },
  {
   "cell_type": "code",
   "execution_count": 53,
   "id": "0a3d622d",
   "metadata": {},
   "outputs": [
    {
     "data": {
      "text/plain": [
       "[20, 30, 50, 60]"
      ]
     },
     "execution_count": 53,
     "metadata": {},
     "output_type": "execute_result"
    }
   ],
   "source": [
    "sorted(number1)"
   ]
  },
  {
   "cell_type": "code",
   "execution_count": 55,
   "id": "cff3d1f5",
   "metadata": {},
   "outputs": [
    {
     "data": {
      "text/plain": [
       "[60, 50, 30, 20]"
      ]
     },
     "execution_count": 55,
     "metadata": {},
     "output_type": "execute_result"
    }
   ],
   "source": [
    "sorted(number1,reverse = True)"
   ]
  },
  {
   "cell_type": "code",
   "execution_count": 58,
   "id": "c4d39b45",
   "metadata": {},
   "outputs": [
    {
     "data": {
      "text/plain": [
       "160"
      ]
     },
     "execution_count": 58,
     "metadata": {},
     "output_type": "execute_result"
    }
   ],
   "source": [
    "sum(number1)"
   ]
  },
  {
   "cell_type": "code",
   "execution_count": 137,
   "id": "1d34a588",
   "metadata": {},
   "outputs": [],
   "source": [
    "# unpacking of tuple \n",
    "a,b,c,d,e=(4,3,4,8,9)"
   ]
  },
  {
   "cell_type": "code",
   "execution_count": 142,
   "id": "f3c764c1",
   "metadata": {},
   "outputs": [
    {
     "ename": "ValueError",
     "evalue": "too many values to unpack (expected 4)",
     "output_type": "error",
     "traceback": [
      "\u001b[1;31m---------------------------------------------------------------------------\u001b[0m",
      "\u001b[1;31mValueError\u001b[0m                                Traceback (most recent call last)",
      "\u001b[1;32m<ipython-input-142-6368b5f1c436>\u001b[0m in \u001b[0;36m<module>\u001b[1;34m\u001b[0m\n\u001b[1;32m----> 1\u001b[1;33m \u001b[0ma\u001b[0m\u001b[1;33m,\u001b[0m\u001b[0mb\u001b[0m\u001b[1;33m,\u001b[0m\u001b[0mc\u001b[0m\u001b[1;33m,\u001b[0m\u001b[0me\u001b[0m\u001b[1;33m=\u001b[0m\u001b[1;33m(\u001b[0m\u001b[1;36m4\u001b[0m\u001b[1;33m,\u001b[0m\u001b[1;36m3\u001b[0m\u001b[1;33m,\u001b[0m\u001b[1;36m4\u001b[0m\u001b[1;33m,\u001b[0m\u001b[1;36m8\u001b[0m\u001b[1;33m,\u001b[0m\u001b[1;36m9\u001b[0m\u001b[1;33m)\u001b[0m\u001b[1;33m\u001b[0m\u001b[1;33m\u001b[0m\u001b[0m\n\u001b[0m",
      "\u001b[1;31mValueError\u001b[0m: too many values to unpack (expected 4)"
     ]
    }
   ],
   "source": [
    "a,b,c,e=(4,3,4,8,9)"
   ]
  },
  {
   "cell_type": "code",
   "execution_count": 138,
   "id": "5fc68707",
   "metadata": {},
   "outputs": [],
   "source": [
    "a,b,*others =(4,3,4,8,9,34,3,43,43,4,3,43,4)"
   ]
  },
  {
   "cell_type": "code",
   "execution_count": 145,
   "id": "3439c11a",
   "metadata": {},
   "outputs": [
    {
     "data": {
      "text/plain": [
       "11"
      ]
     },
     "execution_count": 145,
     "metadata": {},
     "output_type": "execute_result"
    }
   ],
   "source": [
    "len(others)"
   ]
  },
  {
   "cell_type": "code",
   "execution_count": 143,
   "id": "07b86382",
   "metadata": {},
   "outputs": [],
   "source": [
    "a=5\n",
    "a=10\n",
    "a=50"
   ]
  },
  {
   "cell_type": "code",
   "execution_count": 144,
   "id": "dbd99575",
   "metadata": {},
   "outputs": [
    {
     "data": {
      "text/plain": [
       "50"
      ]
     },
     "execution_count": 144,
     "metadata": {},
     "output_type": "execute_result"
    }
   ],
   "source": [
    "a"
   ]
  },
  {
   "cell_type": "code",
   "execution_count": 148,
   "id": "b1930bff",
   "metadata": {},
   "outputs": [
    {
     "name": "stdout",
     "output_type": "stream",
     "text": [
      "a is: 5\n",
      "b is: 6\n",
      "a is: 6\n",
      "b is: 5\n"
     ]
    }
   ],
   "source": [
    "# Swaping of two Numbers\n",
    "a=5\n",
    "b=6\n",
    "print(\"a is:\",a)\n",
    "print(\"b is:\",b)\n",
    "a,b = b,a \n",
    "print(\"a is:\",a)\n",
    "print(\"b is:\",b)"
   ]
  },
  {
   "cell_type": "markdown",
   "id": "1d0286d2",
   "metadata": {},
   "source": [
    "# SET"
   ]
  },
  {
   "cell_type": "code",
   "execution_count": 72,
   "id": "85365683",
   "metadata": {},
   "outputs": [],
   "source": [
    "s1 = set()"
   ]
  },
  {
   "cell_type": "code",
   "execution_count": 74,
   "id": "17897052",
   "metadata": {},
   "outputs": [
    {
     "name": "stdout",
     "output_type": "stream",
     "text": [
      "{}\n",
      "<class 'dict'>\n"
     ]
    }
   ],
   "source": [
    "s2 = {}\n",
    "print(s2)\n",
    "print(type(s2))"
   ]
  },
  {
   "cell_type": "code",
   "execution_count": 73,
   "id": "13f1e3a2",
   "metadata": {},
   "outputs": [
    {
     "name": "stdout",
     "output_type": "stream",
     "text": [
      "set()\n",
      "<class 'set'>\n"
     ]
    }
   ],
   "source": [
    "print(s1)\n",
    "print(type(s1))"
   ]
  },
  {
   "cell_type": "code",
   "execution_count": 75,
   "id": "53cd4cdc",
   "metadata": {},
   "outputs": [],
   "source": [
    "s3 = {1,2,3,4,5,1,2,3,4,5}"
   ]
  },
  {
   "cell_type": "code",
   "execution_count": 76,
   "id": "050c603c",
   "metadata": {},
   "outputs": [
    {
     "name": "stdout",
     "output_type": "stream",
     "text": [
      "{1, 2, 3, 4, 5}\n"
     ]
    }
   ],
   "source": [
    "print(s3)"
   ]
  },
  {
   "cell_type": "code",
   "execution_count": 77,
   "id": "a04fed78",
   "metadata": {},
   "outputs": [
    {
     "ename": "TypeError",
     "evalue": "unhashable type: 'set'",
     "output_type": "error",
     "traceback": [
      "\u001b[1;31m---------------------------------------------------------------------------\u001b[0m",
      "\u001b[1;31mTypeError\u001b[0m                                 Traceback (most recent call last)",
      "\u001b[1;32m<ipython-input-77-7dc8c1ac85ff>\u001b[0m in \u001b[0;36m<module>\u001b[1;34m\u001b[0m\n\u001b[1;32m----> 1\u001b[1;33m \u001b[0ms4\u001b[0m \u001b[1;33m=\u001b[0m \u001b[1;33m{\u001b[0m\u001b[1;36m1\u001b[0m\u001b[1;33m,\u001b[0m\u001b[1;36m2\u001b[0m\u001b[1;33m,\u001b[0m\u001b[1;36m3\u001b[0m\u001b[1;33m,\u001b[0m\u001b[1;36m4\u001b[0m\u001b[1;33m,\u001b[0m\u001b[1;33m{\u001b[0m\u001b[1;36m4\u001b[0m\u001b[1;33m,\u001b[0m\u001b[1;36m5\u001b[0m\u001b[1;33m,\u001b[0m\u001b[1;36m6\u001b[0m\u001b[1;33m}\u001b[0m\u001b[1;33m}\u001b[0m\u001b[1;33m\u001b[0m\u001b[1;33m\u001b[0m\u001b[0m\n\u001b[0m\u001b[0;32m      2\u001b[0m \u001b[0mprint\u001b[0m\u001b[1;33m(\u001b[0m\u001b[0ms4\u001b[0m\u001b[1;33m)\u001b[0m\u001b[1;33m\u001b[0m\u001b[1;33m\u001b[0m\u001b[0m\n",
      "\u001b[1;31mTypeError\u001b[0m: unhashable type: 'set'"
     ]
    }
   ],
   "source": [
    "s4 = {1,2,3,4,{4,5,6}}\n",
    "print(s4)"
   ]
  },
  {
   "cell_type": "code",
   "execution_count": 78,
   "id": "71e39992",
   "metadata": {},
   "outputs": [],
   "source": [
    "s5 = {1,2,\"Hello\",(1,2,3)}\n",
    "print(s5)"
   ]
  },
  {
   "cell_type": "code",
   "execution_count": 80,
   "id": "71e5299b",
   "metadata": {},
   "outputs": [
    {
     "ename": "TypeError",
     "evalue": "unhashable type: 'list'",
     "output_type": "error",
     "traceback": [
      "\u001b[1;31m---------------------------------------------------------------------------\u001b[0m",
      "\u001b[1;31mTypeError\u001b[0m                                 Traceback (most recent call last)",
      "\u001b[1;32m<ipython-input-80-a2abe2b50baf>\u001b[0m in \u001b[0;36m<module>\u001b[1;34m\u001b[0m\n\u001b[1;32m----> 1\u001b[1;33m \u001b[0ms6\u001b[0m \u001b[1;33m=\u001b[0m \u001b[1;33m{\u001b[0m\u001b[1;36m1\u001b[0m\u001b[1;33m,\u001b[0m\u001b[1;36m2\u001b[0m\u001b[1;33m,\u001b[0m\u001b[1;34m\"Hello\"\u001b[0m\u001b[1;33m,\u001b[0m\u001b[1;33m[\u001b[0m\u001b[1;36m1\u001b[0m\u001b[1;33m,\u001b[0m\u001b[1;36m2\u001b[0m\u001b[1;33m,\u001b[0m\u001b[1;36m3\u001b[0m\u001b[1;33m]\u001b[0m\u001b[1;33m}\u001b[0m\u001b[1;33m\u001b[0m\u001b[1;33m\u001b[0m\u001b[0m\n\u001b[0m\u001b[0;32m      2\u001b[0m \u001b[0mprint\u001b[0m\u001b[1;33m(\u001b[0m\u001b[0ms6\u001b[0m\u001b[1;33m)\u001b[0m\u001b[1;33m\u001b[0m\u001b[1;33m\u001b[0m\u001b[0m\n",
      "\u001b[1;31mTypeError\u001b[0m: unhashable type: 'list'"
     ]
    }
   ],
   "source": [
    "s6 = {1,2,\"Hello\",[1,2,3]}\n",
    "print(s6)"
   ]
  },
  {
   "cell_type": "code",
   "execution_count": 86,
   "id": "d71c3e54",
   "metadata": {},
   "outputs": [
    {
     "name": "stdout",
     "output_type": "stream",
     "text": [
      "{1, 3, 'Hello'}\n"
     ]
    }
   ],
   "source": [
    "s6={1,3,\"Hello\",True}\n",
    "print(s6)"
   ]
  },
  {
   "cell_type": "code",
   "execution_count": 109,
   "id": "dfcce939",
   "metadata": {},
   "outputs": [
    {
     "name": "stdout",
     "output_type": "stream",
     "text": [
      "{1, 2, 3, 4, 5, 6, 7, 8}\n"
     ]
    }
   ],
   "source": [
    "s7= {1,2,3,4,5}\n",
    "s8= {4,5,6,7,8}\n",
    "\n",
    "# | pipe sign use for union Operation\n",
    "\n",
    "print(s7|s8)"
   ]
  },
  {
   "cell_type": "code",
   "execution_count": 110,
   "id": "ec268bf3",
   "metadata": {},
   "outputs": [
    {
     "name": "stdout",
     "output_type": "stream",
     "text": [
      "{4, 5}\n"
     ]
    }
   ],
   "source": [
    "# & operator used for Intersection\n",
    "print(s7&s8)"
   ]
  },
  {
   "cell_type": "code",
   "execution_count": 111,
   "id": "8f7add93",
   "metadata": {},
   "outputs": [
    {
     "name": "stdout",
     "output_type": "stream",
     "text": [
      "{8, 6, 7}\n",
      "{1, 2, 3}\n"
     ]
    }
   ],
   "source": [
    "# difference b/w two sets \"-\"\n",
    "print(s8-s7)\n",
    "print(s7-s8)"
   ]
  },
  {
   "cell_type": "code",
   "execution_count": 112,
   "id": "6badeeb6",
   "metadata": {},
   "outputs": [
    {
     "name": "stdout",
     "output_type": "stream",
     "text": [
      "{1, 2, 3, 6, 7, 8}\n"
     ]
    }
   ],
   "source": [
    "# symmetric Difference ^\n",
    "print(s7^s8)\n"
   ]
  },
  {
   "cell_type": "code",
   "execution_count": 113,
   "id": "6a40e63d",
   "metadata": {},
   "outputs": [],
   "source": [
    "s9 = frozenset((1,2,3))"
   ]
  },
  {
   "cell_type": "code",
   "execution_count": 114,
   "id": "9df66516",
   "metadata": {},
   "outputs": [
    {
     "name": "stdout",
     "output_type": "stream",
     "text": [
      "frozenset({1, 2, 3})\n"
     ]
    }
   ],
   "source": [
    "print(s9)"
   ]
  },
  {
   "cell_type": "code",
   "execution_count": 115,
   "id": "22604131",
   "metadata": {},
   "outputs": [],
   "source": [
    "s8.update((\"cello\", \"violin\"))"
   ]
  },
  {
   "cell_type": "code",
   "execution_count": 116,
   "id": "56ac60e1",
   "metadata": {},
   "outputs": [
    {
     "data": {
      "text/plain": [
       "{4, 5, 6, 7, 8, 'cello', 'violin'}"
      ]
     },
     "execution_count": 116,
     "metadata": {},
     "output_type": "execute_result"
    }
   ],
   "source": [
    "s8"
   ]
  },
  {
   "cell_type": "code",
   "execution_count": 117,
   "id": "baf46e5c",
   "metadata": {},
   "outputs": [],
   "source": [
    "s8.remove((\"cello\"))"
   ]
  },
  {
   "cell_type": "code",
   "execution_count": 118,
   "id": "91359109",
   "metadata": {},
   "outputs": [
    {
     "data": {
      "text/plain": [
       "{4, 5, 6, 7, 8, 'violin'}"
      ]
     },
     "execution_count": 118,
     "metadata": {},
     "output_type": "execute_result"
    }
   ],
   "source": [
    "s8"
   ]
  },
  {
   "cell_type": "code",
   "execution_count": null,
   "id": "693cf0ce",
   "metadata": {},
   "outputs": [],
   "source": []
  }
 ],
 "metadata": {
  "kernelspec": {
   "display_name": "Python 3",
   "language": "python",
   "name": "python3"
  },
  "language_info": {
   "codemirror_mode": {
    "name": "ipython",
    "version": 3
   },
   "file_extension": ".py",
   "mimetype": "text/x-python",
   "name": "python",
   "nbconvert_exporter": "python",
   "pygments_lexer": "ipython3",
   "version": "3.8.8"
  }
 },
 "nbformat": 4,
 "nbformat_minor": 5
}
